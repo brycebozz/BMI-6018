{
 "cells": [
  {
   "cell_type": "code",
   "execution_count": 1,
   "id": "53a858dc-d7fb-424c-82d2-8cc52a4ce20e",
   "metadata": {},
   "outputs": [
    {
     "name": "stdout",
     "output_type": "stream",
     "text": [
      "2\n"
     ]
    }
   ],
   "source": [
    "#Question 1 (Booleans\n",
    "# boolean True + boolean True - boolean False = ?\n",
    "print(True + True - False)"
   ]
  },
  {
   "cell_type": "code",
   "execution_count": 5,
   "id": "7792e9dd-c128-47dc-85f0-9d25ebaa72b2",
   "metadata": {},
   "outputs": [
    {
     "name": "stdout",
     "output_type": "stream",
     "text": [
      "1\n"
     ]
    }
   ],
   "source": [
    "#Question 2 (Booleans 2)\n",
    "#logical tracker = True\n",
    "#logical tracker = logical tracker & logical tracker\n",
    "#logical tracker = logical tracker | (logical tracker - logical tracker)\n",
    "#logical tracker  = ?\n",
    "logical_tracker = True\n",
    "logical_tracker = logical_tracker and logical_tracker\n",
    "logical_tracker = logical_tracker  |  (logical_tracker-logical_tracker)\n",
    "print(logical_tracker)"
   ]
  },
  {
   "cell_type": "code",
   "execution_count": 7,
   "id": "ff09792b-135e-4a37-b0cd-980f45830a8f",
   "metadata": {},
   "outputs": [
    {
     "name": "stdout",
     "output_type": "stream",
     "text": [
      " \n"
     ]
    }
   ],
   "source": [
    "#Question 5 (Strings)\n",
    "#string = \"E. Coli\"\n",
    "#string[2] = \n",
    "string = \"E. Coli\"\n",
    "print(string[2])"
   ]
  },
  {
   "cell_type": "code",
   "execution_count": 8,
   "id": "d823f88f-faae-4eff-a293-018ba2677e04",
   "metadata": {},
   "outputs": [
    {
     "ename": "TypeError",
     "evalue": "'str' object does not support item assignment",
     "output_type": "error",
     "traceback": [
      "\u001b[31m---------------------------------------------------------------------------\u001b[39m",
      "\u001b[31mTypeError\u001b[39m                                 Traceback (most recent call last)",
      "\u001b[36mCell\u001b[39m\u001b[36m \u001b[39m\u001b[32mIn[8]\u001b[39m\u001b[32m, line 11\u001b[39m\n\u001b[32m      1\u001b[39m \u001b[38;5;66;03m#Question 6 (Strings 2)\u001b[39;00m\n\u001b[32m      2\u001b[39m \u001b[38;5;66;03m#Oh no! My string has a typo!\u001b[39;00m\n\u001b[32m      3\u001b[39m \n\u001b[32m   (...)\u001b[39m\u001b[32m      7\u001b[39m \n\u001b[32m      8\u001b[39m \u001b[38;5;66;03m#string[2]=\"L\"\u001b[39;00m\n\u001b[32m     10\u001b[39m string = \u001b[33m\"\u001b[39m\u001b[33mI Bove python\u001b[39m\u001b[33m\"\u001b[39m\n\u001b[32m---> \u001b[39m\u001b[32m11\u001b[39m \u001b[43mstring\u001b[49m\u001b[43m[\u001b[49m\u001b[32;43m2\u001b[39;49m\u001b[43m]\u001b[49m = \u001b[33m\"\u001b[39m\u001b[33mL\u001b[39m\u001b[33m\"\u001b[39m\n\u001b[32m     12\u001b[39m \u001b[38;5;28mprint\u001b[39m(string)\n",
      "\u001b[31mTypeError\u001b[39m: 'str' object does not support item assignment"
     ]
    }
   ],
   "source": [
    "#Question 6 (Strings 2)\n",
    "#Oh no! My string has a typo!\n",
    "\n",
    "#string = \"I Bove python\"\n",
    "\n",
    "#No worries though. I'll just fix that.\n",
    "\n",
    "#string[2]=\"L\"\n",
    "\n",
    "string = \"I Bove python\"\n",
    "string[2] = \"L\"\n",
    "print(string)\n"
   ]
  },
  {
   "cell_type": "code",
   "execution_count": null,
   "id": "c2009f29-34ad-4109-a84d-fc93bd1b0985",
   "metadata": {},
   "outputs": [],
   "source": [
    "#Got an error for question 6 because strings don't support item assignment which means I can't change the B to L.\n",
    "#So the answer to question 6 is No it won't work at all."
   ]
  },
  {
   "cell_type": "code",
   "execution_count": 10,
   "id": "5ac7078b-821b-4801-ac35-f3526f09bf51",
   "metadata": {},
   "outputs": [
    {
     "name": "stdout",
     "output_type": "stream",
     "text": [
      "5\n",
      "FirstnameLastname\n",
      "Firstname Lastname\n"
     ]
    }
   ],
   "source": [
    "#Question 9 (Operators 2)\n",
    "#Explain how the \"+\", addition operation works differently for integers and strings. \n",
    "print(2+3)\n",
    "print(\"Firstname\" + \"Lastname\")\n",
    "print(\"Firstname\" + \" \" + \"Lastname\")"
   ]
  },
  {
   "cell_type": "code",
   "execution_count": null,
   "id": "35c201de-93e6-44e2-acd0-9f2a4e677304",
   "metadata": {},
   "outputs": [],
   "source": [
    "#As you see with the code for question 9 aboce you can see when using the addition operator on integers it adds the two together.\n",
    "#When you add strings together it just combines the two strings\""
   ]
  },
  {
   "cell_type": "code",
   "execution_count": 11,
   "id": "540f5f9f-ba47-45e2-93e5-60f9aab36422",
   "metadata": {},
   "outputs": [
    {
     "name": "stdout",
     "output_type": "stream",
     "text": [
      "73\n"
     ]
    }
   ],
   "source": [
    "#Question 10 (String 3)\n",
    "#Type the output if the strings \"7\" and \"3\" are added. \n",
    "print(\"7\" + \"3\")"
   ]
  },
  {
   "cell_type": "code",
   "execution_count": null,
   "id": "5cd2f8af-0ddc-45e4-96fd-373244441a4a",
   "metadata": {},
   "outputs": [],
   "source": [
    "#The output for \"7\" + \"3\" is 73 because you are combining two strings together."
   ]
  }
 ],
 "metadata": {
  "kernelspec": {
   "display_name": "Python 3 (ipykernel)",
   "language": "python",
   "name": "python3"
  },
  "language_info": {
   "codemirror_mode": {
    "name": "ipython",
    "version": 3
   },
   "file_extension": ".py",
   "mimetype": "text/x-python",
   "name": "python",
   "nbconvert_exporter": "python",
   "pygments_lexer": "ipython3",
   "version": "3.13.7"
  }
 },
 "nbformat": 4,
 "nbformat_minor": 5
}
