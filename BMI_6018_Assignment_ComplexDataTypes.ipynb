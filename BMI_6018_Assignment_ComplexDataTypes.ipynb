{
 "cells": [
  {
   "cell_type": "code",
   "execution_count": 1,
   "id": "43c61910",
   "metadata": {},
   "outputs": [
    {
     "name": "stdout",
     "output_type": "stream",
     "text": [
      "Assignment 3\n"
     ]
    }
   ],
   "source": [
    "\"\"\"BMI 6018 Fall 2022 \n",
    "\n",
    "Instructions: For this assignment, please return all answers as variables in your\n",
    ".py file. You will quickly note that you will need to find answers outside the\n",
    "class lectures. This is not an accident! You will need to become professionally\n",
    "comfortable with looking things up via the python docs and google. \n",
    "\n",
    "Ensure that all variables are labelled according to the example. IE the answer\n",
    "to problem 1 part c should be labelled one_c. While all questions are answerable\n",
    "with a single line of code, you are free to use helper variables so long as they\n",
    "are helpfully/informatively named. \n",
    "\n",
    "I should be able to open your .py file and run it without errors. I will **not** be \n",
    "debugging your code for you. If your file does not run, it will **not** be graded. \n",
    "If you are unsure if your file will run, open up a chpc terminal and test it there.\n",
    "\n",
    "For this assignment, please only use base python files types. That is: there \n",
    "should be no import calls in your file save my use of sys at the end.\n",
    "\n",
    "Example Problem\n",
    "\n",
    "0.a Create a list of strings\n",
    "0.b Using a str method, capitalize one of the elements in the list using a slice\n",
    "0.c Coerce one character of the list to display as a hex\n",
    "\n",
    "zero_a = ['first','second','third','fourth','fifth']\n",
    "zero_b = zero_a[1].upper()\n",
    "zero_c = hex(ord(zero_a[1][1]))\n",
    "\n",
    "#Problem 1: Lists, Sets and Coersion\n",
    "\n",
    "1.a Create a list of integers no fewer than 10 items from 0 to 9.\n",
    " .b Add 3 to the 5th indexed element\n",
    " .c Coerce all elements in the list to floats using list comprehension\n",
    " .d Coerce the list to a set\n",
    " .e Using a method, append int 10 to the set\n",
    " .f Using a method, pop an item from the set\n",
    " .g Using a length counting function, count the number of items in the set\n",
    " .h Check if the number of items in the set is the same as the \n",
    "    number of items in the list\n",
    " .i Coerce the set to a list and use the \"+\" operator combine the list to the list from 1.a\n",
    " .j Coerce 1.i to a set\n",
    " .k Count the number of elements in the 1.j\n",
    "\n",
    "\n",
    "\n",
    "Problem 2: Dictionary woes\n",
    "\n",
    "2.a Combine the three sample dictionaries (given below) into a nested dictionary (nested in programming means joined), named \n",
    "    two_a, ensure the key names are the same as the dictionary names.\n",
    " .b Using keys, retrieve the Dango's name from 2.a\n",
    " .c Using keys, update the value of Mochi's year to 2018. This should not be a variable\n",
    "    and should simply update 2.a.\n",
    " .d Manually create a dictionary that has a single level and contains each patient\n",
    "    as the key and the year as the value. Set Mochi's year to 2019.'\n",
    " .e Coerce the keys of 2.d into a list\n",
    " .f Coerce the values of 2.d into a list\n",
    " .g Use the zip function to combine 2.e and 2.f into a dictionary again\n",
    "\n",
    "\n",
    "two_patient_dictionary_kinoko = {\n",
    "  \"name\" : \"Kinoko\",\n",
    "  \"year\" : 2021\n",
    "}\n",
    "two_patient_dictionary_dango = {\n",
    "  \"name\" : \"Dango\",\n",
    "  \"year\" : 2019\n",
    "}\n",
    "two_patient_dictionary_mochi  = {\n",
    "  \"name\" : \"Mochi\",\n",
    "  \"year\" : 2020\n",
    "}\n",
    "\n",
    "\n",
    "\n",
    "Problem 3: Set combinations\n",
    "\n",
    "Given the predefined sets below and using set methods\n",
    "3.a Is set E a subset of set A\n",
    " .b Is set E a strict subset of set A\n",
    " .c Create a set that is the intersection of set A and set B\n",
    " .d Create a set that is the union of sets C, D and E\n",
    " .e add 9 to the set\n",
    " .f Using == compare this set to the list in one_a\n",
    " .g Explain why they are not the same. What would you need to change if you\n",
    "    wanted this to be True?\n",
    " \n",
    "\n",
    "three_setA = {1,2,3,4,5}\n",
    "three_setB = {2,3,4,5,6}\n",
    "three_setC = {3,5,7,9}\n",
    "three_setD = {2,4,6,8}\n",
    "three_setE = {1,2,3,4}\n",
    "\n",
    "\n",
    "\n",
    "Problem 4: Changing variable types\n",
    "\n",
    "For each step you will modify a variable, then append the type of the variable\n",
    "to a list. Do not recreate the list variable, it should be a running list of \n",
    "types.\n",
    "\n",
    "4.a Create a variable of type int with the value of 8\n",
    " .b Create an empty list \n",
    " .c Using type(), add the type of 4.a to this list\n",
    " .d Add 0.39 to 4.c\n",
    " .e append the type of 0.39 to the list\n",
    " .f exponentiate to the -10, ie: 4.d^-10,(hint: there might be an artihmetic operator to do so) round it to no \n",
    "    decimal places, and append to list.\n",
    " .g append the type to the list\n",
    " \n",
    " \n",
    "Problem 5: More variable type changes\n",
    "\n",
    "Continue from where you left off in Problem 4.\n",
    "\n",
    "5.a Manually create a dictionary where the values are items in the list from where we left in \n",
    "    problem 4, and the keys should be their index in the list. Print the dictionary.\n",
    " .b Add 300 and coerce it into a string\n",
    " .c append the type to the list\n",
    " .d slice the string up to the 2nd element\n",
    " .e append the type to the list\n",
    " .f use list comprehension to convert this into a new list of integers\n",
    " .g append the type to the list\n",
    " .h append the type of three_setA to the list\n",
    "\"\"\"\n",
    "\n",
    "#Start your assignment here\n",
    "print(\"Assignment 3\")\n",
    "\n"
   ]
  },
  {
   "cell_type": "code",
   "execution_count": 2,
   "id": "367710fd",
   "metadata": {},
   "outputs": [
    {
     "name": "stdout",
     "output_type": "stream",
     "text": [
      "[1.0, 2.0, 3.0, 4.0, 6.0, 7.0, 8.0, 9.0, 10, 0, 1, 2, 3, 4, 5, 6, 7, 8, 9]\n",
      "{0, 1.0, 2.0, 3.0, 4.0, 5, 6.0, 7.0, 8.0, 9.0, 10}\n"
     ]
    }
   ],
   "source": [
    "#Problem 1\n",
    "one_a = [0,1,2,3,4,5,6,7,8,9]\n",
    "one_b = one_a.copy() #the .copy() is used so when I add 3 to one b so one_a isn't reassigned.  \n",
    "one_b[5] += 3\n",
    "one_c = [float(x) for x in one_b]\n",
    "one_d = set(one_c)\n",
    "one_e = one_d.copy() # .copy being used again for the same reasons as one_b and if I do one_e = one_d.add(10) without copy the answer I would get would be None\n",
    "one_e.add(10) #Can't append sets. If I have to append look at comments below\n",
    "#If append is required:\n",
    "# temp_list = list(one_d)\n",
    "#temp_list.append(10)\n",
    "#one_e = set(temp_list)\n",
    "one_f = one_e.copy() #using copy so .pop() so one_e isn't reassigned if its fine to change one_e you can ignore the .copy() line. and the code used without .copy() is under line below.\n",
    "one_f.pop()\n",
    "#If I cant use .copy()\n",
    "#one_f = one_e.pop()\n",
    "one_g = len(one_f)\n",
    "one_h = one_g == len(one_c) #could also do one_h = len(one_f) == len(one_c)\n",
    "one_i = list(one_f) + one_a #since I was using .copy() one question b to make sure that One_a is not changed when I did follow up questions to make sure each variable gives the answer is asked and not the answer of the entire problem answers might differ.\n",
    "#If I didn't use .copy() one_a == one_b so if I shouldn't have used .copy() the result would be equal to the code I wrote below:\n",
    "#one_i = list(one_f) + one_b\n",
    "one_j = set(one_i)\n",
    "one_k = len(one_j)\n",
    "print(one_i)\n",
    "print(one_j)\n"
   ]
  },
  {
   "cell_type": "code",
   "execution_count": 3,
   "id": "2bab6f1a-73d1-479a-b73a-3ff05f1e4fb8",
   "metadata": {},
   "outputs": [],
   "source": [
    "#Problem 2\n",
    "two_patient_dictionary_kinoko = {\"name\" : \"Kinoko\",\"year\" : 2021}\n",
    "two_patient_dictionary_dango = {\"name\" : \"Dango\",\"year\" : 2019}\n",
    "two_patient_dictionary_mochi  = {\"name\" : \"Mochi\",\"year\" : 2020}\n",
    "two_a = {\"two_patient_dictionary_kinoko\" : two_patient_dictionary_kinoko, \"two_patient_dictionary_dango\" : two_patient_dictionary_dango, \"two_patient_dictionary_mochi\" : two_patient_dictionary_mochi}\n",
    "two_b = two_a[\"two_patient_dictionary_dango\"][\"name\"]\n",
    "two_a[\"two_patient_dictionary_mochi\"][\"year\"] = 2018\n",
    "two_d = {\"Kinoko\" : 2021, \"Dango\" : 2019, \"Mochi\" : 2019}\n",
    "two_e = list(two_d.keys())\n",
    "two_f = list(two_d.values())\n",
    "two_g = dict(zip(two_e,two_f))"
   ]
  },
  {
   "cell_type": "code",
   "execution_count": 4,
   "id": "9ac91cf8-ee9b-4747-af61-a038799f9dba",
   "metadata": {},
   "outputs": [
    {
     "name": "stdout",
     "output_type": "stream",
     "text": [
      "[0, 1, 2, 3, 4, 5, 6, 7, 8, 9]\n",
      "{1, 2, 3, 4, 5, 6, 7, 8, 9}\n",
      "False\n"
     ]
    }
   ],
   "source": [
    "#Problem 3\n",
    "three_setA = {1,2,3,4,5}\n",
    "three_setB = {2,3,4,5,6}\n",
    "three_setC = {3,5,7,9}\n",
    "three_setD = {2,4,6,8}\n",
    "three_setE = {1,2,3,4}\n",
    "\n",
    "three_a = three_setE.issubset(three_setA)\n",
    "three_b = three_setE < three_setA\n",
    "three_c = three_setA.intersection(three_setB)\n",
    "three_d = three_setC.union(three_setD, three_setE)\n",
    "three_e = three_d.copy() #.copy() being used again so it doesn't modify the three_d variable. If I can't use copy then you do three_e = three_d.add(9)\n",
    "three_e.add(9)\n",
    "three_f = three_e == one_a \n",
    "print(one_a)\n",
    "print(three_e)\n",
    "print(three_f)\n",
    "three_g = \"\"\"They are not the same because one a is a list and includes 0 as well. To make them the same 0 would need to be added\n",
    "in three_e and either three_e would need to be a list or one_a would need to be a set.\"\"\"\n",
    "#Code needed for it to be true:\n",
    "#three_e.add(0)\n",
    "#three_x_true_example = list(three_e)\n",
    "\n"
   ]
  },
  {
   "cell_type": "code",
   "execution_count": 5,
   "id": "62aa5781-44e2-413a-a563-c56e2ab2e717",
   "metadata": {},
   "outputs": [
    {
     "name": "stdout",
     "output_type": "stream",
     "text": [
      "[<class 'int'>, 0.39]\n",
      "[<class 'int'>, 0.39, <class 'float'>, 12284]\n",
      "[<class 'int'>, 0.39, <class 'float'>, 12284, <class 'int'>]\n"
     ]
    }
   ],
   "source": [
    "#Problem 4\n",
    "four_a = 8 #8 is an integer so I created a variable with 8 and its type is an integer. \n",
    "four_b = [] #four_b is list name to stick with naming scheme of every question so far.\n",
    "four_b.append(type(four_a)) #this is four_c. \n",
    "#I did not see anywhere where it says append four_a into the list so 8 will not be found in list.\n",
    "four_b = four_b + [0.39] #This is four_d used \n",
    "print(four_b)\n",
    "#four_b = four_b because the instructions state that it needs to be the same list. Question said add not append and the only way I could see is by adding two lists together.\n",
    "four_b.append(type(four_b[-1])) #this is four_e\n",
    "#If I did four_b.append(type(0.39)) I would be giving the type of 0.39 not the type of the latest value in the list.\n",
    "four_b.append(round(four_b[-2]**-10)) #this is question four_f did four_b[-2] for same reasons as question four_e.\n",
    "print(four_b) #printing to confirm it rounded to no decimal places\n",
    "four_b.append(type(four_b[-1])) #this is question 4g\n",
    "print(four_b)"
   ]
  },
  {
   "cell_type": "code",
   "execution_count": 7,
   "id": "e9baf242-5a2a-4e34-a7d4-5acec204314c",
   "metadata": {},
   "outputs": [
    {
     "name": "stdout",
     "output_type": "stream",
     "text": [
      "[3, 0]\n",
      "[<class 'int'>, 0.39, <class 'float'>, 12284, <class 'int'>, '30', <class 'str'>, <class 'type'>, '30', <class 'str'>, <class 'type'>, <class 'list'>, <class 'set'>]\n"
     ]
    }
   ],
   "source": [
    "#problem 5\n",
    "five_a = {0 : four_b[0], 1 : four_b[1], 2 : four_b[2], 3 : four_b[3], 4 : four_b[4]} \n",
    "#dict is named five_a to keep with naming scheme of homework and it was typed in manually since question said manually and didn't ask to use loops.\n",
    "#5b will be adding 300 to the four_b list I assume this since the following questions are in the list.\n",
    "four_b.append(str(300)) # This is question five_b. Appended since it says add 300 to list. str() changes 300 into string thus I had coerce 300 into string.\n",
    "four_b.append(type(four_b[-1])) #five_c\n",
    "four_b[-2] = four_b[-2][:2] #five_d. Interpreted the question as slice the only string in list which is the second to last value. Remember python starts counting at 0. so second element is the 3rd character. In this case the second 0.\n",
    "four_b.append(type(four_b[-1])) #five_e. Interpreted this question as append the type of the last value in the list since it wouldn't make sense to append the type of the same element twice.\n",
    "five_f = [int(x) for x in four_b[-3]] #I interpreted the question as create a new table by converting the string found in the list into seperate integer values.\n",
    "four_b.append(type(five_f)) #five_g. I interpreted this as saying append the type of the new list created into the four_b table.\n",
    "four_b.append(type(three_setA))"
   ]
  },
  {
   "cell_type": "code",
   "execution_count": null,
   "id": "0be57f49-7599-4704-a605-5f73de9ae05e",
   "metadata": {},
   "outputs": [],
   "source": []
  },
  {
   "cell_type": "code",
   "execution_count": null,
   "id": "f5049ff2-f528-4237-b014-686e0069d163",
   "metadata": {},
   "outputs": [],
   "source": []
  },
  {
   "cell_type": "code",
   "execution_count": null,
   "id": "2651c83e-8ca6-40b9-8a5b-5e2f08a0ccff",
   "metadata": {},
   "outputs": [],
   "source": []
  }
 ],
 "metadata": {
  "kernelspec": {
   "display_name": "Python 3 (ipykernel)",
   "language": "python",
   "name": "python3"
  },
  "language_info": {
   "codemirror_mode": {
    "name": "ipython",
    "version": 3
   },
   "file_extension": ".py",
   "mimetype": "text/x-python",
   "name": "python",
   "nbconvert_exporter": "python",
   "pygments_lexer": "ipython3",
   "version": "3.13.7"
  }
 },
 "nbformat": 4,
 "nbformat_minor": 5
}
