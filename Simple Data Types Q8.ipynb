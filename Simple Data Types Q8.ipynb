{
 "cells": [
  {
   "cell_type": "code",
   "execution_count": 9,
   "id": "798e1c64-1e2b-44a8-ad41-5278a9482fb7",
   "metadata": {},
   "outputs": [
    {
     "name": "stdout",
     "output_type": "stream",
     "text": [
      "24.034609838166958\n",
      "<class 'float'>\n"
     ]
    }
   ],
   "source": [
    "#I am assigning a variable equal to her weight and her height.\n",
    "weight = 60\n",
    "#to calculate BMI height needs to be squared so I squared height with **2\n",
    "height = 1.58**2\n",
    "#formula for BMI is weight kg / height squared\n",
    "BMI = weight/height\n",
    "print(BMI)\n",
    "#printed value is a float to prove it using line below\n",
    "print(type(BMI))"
   ]
  },
  {
   "cell_type": "code",
   "execution_count": null,
   "id": "e36524eb-391a-4270-a1b4-b9bf315633fb",
   "metadata": {},
   "outputs": [],
   "source": []
  },
  {
   "cell_type": "code",
   "execution_count": null,
   "id": "52e57ca9-9054-416a-819c-9f2098031706",
   "metadata": {},
   "outputs": [],
   "source": []
  }
 ],
 "metadata": {
  "kernelspec": {
   "display_name": "Python 3 (ipykernel)",
   "language": "python",
   "name": "python3"
  },
  "language_info": {
   "codemirror_mode": {
    "name": "ipython",
    "version": 3
   },
   "file_extension": ".py",
   "mimetype": "text/x-python",
   "name": "python",
   "nbconvert_exporter": "python",
   "pygments_lexer": "ipython3",
   "version": "3.13.7"
  }
 },
 "nbformat": 4,
 "nbformat_minor": 5
}
